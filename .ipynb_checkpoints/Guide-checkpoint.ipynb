{
 "cells": [
  {
   "cell_type": "markdown",
   "metadata": {
    "editable": true
   },
   "source": [
    "# Predict Customer Churn\n",
    "\n",
    "### Instructions\n",
    "\n",
    "By clicking the folder icon in the top left of this workspace, you can see the folder and file structure for this project.  \n",
    "\n",
    "Each of the three files you need to complete for this project are already created for you and in the other open tab:\n",
    "\n",
    "1. `churn_library.py`\n",
    "2. `churn_script_logging_and_tests.py`\n",
    "3. `README.md`\n",
    "\n",
    "As this is a project in best coding practices, a notebook of the original code used to solve the problem has been provided already in the `churn_notebook.ipynb` (available in this tab).\n",
    "\n",
    "It will be your job for this project to use this starting code to complete the two `.py` files listed above.  \n",
    "\n",
    "You will notice there are a number of functions that have already been provided with document strings in each of these files.  These functions have been set up to guide you to a solution (no intended tricks here).  However, if you would like to refactor the notebook in an alternative way to the setup in these files that is also okay, as long as you meet all the requirements in the <a href=\"https://review.udacity.com/#!/rubrics/3094/view\" target=\"_blank\">Rubric</a>.\n"
   ]
  }
 ],
 "metadata": {
  "kernelspec": {
   "display_name": "Python 3",
   "language": "python",
   "name": "python3"
  },
  "language_info": {
   "codemirror_mode": {
    "name": "ipython",
    "version": 3
   },
   "file_extension": ".py",
   "mimetype": "text/x-python",
   "name": "python",
   "nbconvert_exporter": "python",
   "pygments_lexer": "ipython3",
   "version": "3.6.3"
  },
  "ulab_nb_type": "guided"
 },
 "nbformat": 4,
 "nbformat_minor": 4
}
